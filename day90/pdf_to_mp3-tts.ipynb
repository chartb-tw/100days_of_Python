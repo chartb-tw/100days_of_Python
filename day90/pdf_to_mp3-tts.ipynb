{
 "cells": [
  {
   "cell_type": "markdown",
   "id": "48c7e038-f84a-4e6f-ab4c-2d675fd2400e",
   "metadata": {},
   "source": [
    "## Extracting text from `pdf`s and other files\n",
    "\n",
    "The [`textract` Python package](https://textract.readthedocs.io/en/latest/python_package.html#python-package) is, apparently, a good way of getting texts out of `.pdf` files. Let us play around with it here:"
   ]
  },
  {
   "cell_type": "code",
   "execution_count": 3,
   "id": "d6f6dfd6-c6c7-4222-be31-c87d76cfc3a1",
   "metadata": {},
   "outputs": [],
   "source": [
    "saved_api_key = \"YOUR GOOGLE TTS KEY\""
   ]
  },
  {
   "cell_type": "code",
   "execution_count": 2,
   "id": "ded2b9d8-2331-4b51-8721-439fa8d5b41e",
   "metadata": {},
   "outputs": [
    {
     "ename": "ModuleNotFoundError",
     "evalue": "No module named 'textract'",
     "output_type": "error",
     "traceback": [
      "\u001b[0;31m---------------------------------------------------------------------------\u001b[0m",
      "\u001b[0;31mModuleNotFoundError\u001b[0m                       Traceback (most recent call last)",
      "\u001b[0;32m/var/folders/0k/yzccmq7j4n9dddcsh6nfn6l00000gn/T/ipykernel_60239/742405093.py\u001b[0m in \u001b[0;36m<module>\u001b[0;34m\u001b[0m\n\u001b[0;32m----> 1\u001b[0;31m \u001b[0;32mimport\u001b[0m \u001b[0mtextract\u001b[0m\u001b[0;34m\u001b[0m\u001b[0;34m\u001b[0m\u001b[0m\n\u001b[0m",
      "\u001b[0;31mModuleNotFoundError\u001b[0m: No module named 'textract'"
     ]
    }
   ],
   "source": [
    "import textract"
   ]
  },
  {
   "cell_type": "markdown",
   "id": "08aa35a7-a3c4-47ee-81fe-24ac063c8a61",
   "metadata": {},
   "source": [
    "Here, we will experiment with a simple file, with no images and almost entirely text. You can check out the file, and if you're a fan of algebra and rings, try the questions(!)"
   ]
  },
  {
   "cell_type": "code",
   "execution_count": null,
   "id": "15b8edf5-f1e0-4c7f-be8f-a37223b7afd9",
   "metadata": {},
   "outputs": [],
   "source": [
    "rings_file = textract.process(\"ram_questions.pdf\", method='pdfminer', encoding='utf8')\n",
    "print(rings_file)"
   ]
  },
  {
   "cell_type": "markdown",
   "id": "96364cfe-96ad-4bf3-80d8-28ee90a00331",
   "metadata": {},
   "source": [
    "Of course, it is always worth checking how in date a post is, as the above is unreadable (and nothing like what the output should look like!) Back to searching, PyMuPDF has been suggested, let's see if that is any better:"
   ]
  },
  {
   "cell_type": "code",
   "execution_count": null,
   "id": "c543ec34-d63a-40ca-8e6e-5c9028eef5ce",
   "metadata": {},
   "outputs": [],
   "source": [
    "import fitz\n",
    "doc_mr = fitz.open(\"ram_questions.pdf\")\n",
    "for page in doc_mr:\n",
    "    print(page.get_text())"
   ]
  },
  {
   "cell_type": "markdown",
   "id": "c1521ad8-b0ad-49f7-a785-153243bec0e6",
   "metadata": {},
   "source": [
    "Yes, that's much better, and what I was looking for. Now, we can then use this to grab the text from a `.pdf`, and use it for whatever we need to. The [documentation is here](https://pymupdf.readthedocs.io/en/latest/index.html), in particular note the [`Page.get_text()` method](https://pymupdf.readthedocs.io/en/latest/page.html#Page.get_text)."
   ]
  },
  {
   "cell_type": "code",
   "execution_count": null,
   "id": "e1f4c3fe-35a3-4d6d-ac13-e88e220aa305",
   "metadata": {},
   "outputs": [],
   "source": [
    "import requests"
   ]
  },
  {
   "cell_type": "code",
   "execution_count": null,
   "id": "ad84cf80-f194-4b68-8efc-6a6d2da85fbf",
   "metadata": {},
   "outputs": [],
   "source": [
    "doc_mr[0].get_text() # note that the pages objects are zero based, unlike the \"natural\" page numbering"
   ]
  },
  {
   "cell_type": "code",
   "execution_count": null,
   "id": "087a52ae-ae28-45ce-90f5-710edffe21f3",
   "metadata": {},
   "outputs": [],
   "source": [
    "print(doc_mr[0].get_text())"
   ]
  },
  {
   "cell_type": "code",
   "execution_count": null,
   "id": "06eeb96c-282b-4b74-a5a6-10318d6b622f",
   "metadata": {},
   "outputs": [],
   "source": [
    "type(doc_mr[0].get_text())"
   ]
  },
  {
   "cell_type": "markdown",
   "id": "0e2891bf-a69b-4dba-a871-79f23209fe23",
   "metadata": {},
   "source": [
    "Now, I'm trying to work with the [iSpeech API](https://www.ispeech.org/), but the email verification hasn't come through yet. Ah, well..."
   ]
  },
  {
   "cell_type": "markdown",
   "id": "cfceaf72-3d68-4d13-8255-082a011d45ea",
   "metadata": {},
   "source": [
    "The [Python `gtts` package](https://pypi.org/project/gTTS/) allows you to convert text locally, which is quite convenient as I do not particularly find any of the online versions satisfactory for some reason or another (and I would really not like to spend cash on an API that I do not intend on using long term)."
   ]
  },
  {
   "cell_type": "code",
   "execution_count": null,
   "id": "8cff70fa-be6f-498d-b1a4-5d4688ef5137",
   "metadata": {},
   "outputs": [],
   "source": [
    "from gtts import gTTS\n",
    "for page in doc_mr:\n",
    "    output = gTTS(text = page.get_text(), lang = 'en', slow = False)\n",
    "    output.save(f\"ram_questions_page{page.number + 1}.mp3\") # again recall the pages start counting from zero, so add 1 to get correct numbering "
   ]
  },
  {
   "cell_type": "markdown",
   "id": "6395e728-76c3-4707-ad5e-18af62025377",
   "metadata": {},
   "source": [
    "Great, but note that here we are saving the pages one by one. Is there a way to create one single file?"
   ]
  },
  {
   "cell_type": "code",
   "execution_count": null,
   "id": "c4aa4fda-66bd-4f91-a335-d16fcdfe0405",
   "metadata": {},
   "outputs": [],
   "source": [
    "output_string = \"\"\n",
    "for page in doc_mr:\n",
    "    output_string += (\" \" + page.get_text()) \n",
    "output_long = gTTS(text = output_string, lang = 'en', slow = False)\n",
    "output_long.save(\"rings_long_vers.mp3\")"
   ]
  },
  {
   "cell_type": "markdown",
   "id": "7f6c52fa-e086-4f56-a7e9-86b6e154f44c",
   "metadata": {},
   "source": [
    "Note, of course, that the saving of the `.mp3`s and the processing of the `.pdf`s are intensive tasks which take a bit of time.\n",
    "\n",
    "The `gTTS` package hasn't been perfect, and didn't seem to recognise the term \"field\" or \"define\" (lol), which may be down to how the source `.tex` file was compiled into a `.pdf`. However, it has recognised mathematical symbols and has spoken them correctly. Of course, some of the rendering is quite challenging to speak out (mathematics in general is like that, unfortunately).\n",
    "\n",
    "---\n",
    "\n",
    "While I'm not planning to actually use the Google API, as it requires a phone number (which can be used for more than just verification), I'll see how I would use it if I had access to it (you know, without needing to expose myself any more than possible!)"
   ]
  },
  {
   "cell_type": "code",
   "execution_count": null,
   "id": "902771bf-2970-4779-95bf-6fe3fa788cf2",
   "metadata": {},
   "outputs": [],
   "source": [
    "gctts_url = f\"https://texttospeech.googleapis.com/v1/text:synthesize?key={saved_api_key}\"\n",
    "gctts_paramets = {\n",
    "  \"audioConfig\": {\n",
    "    \"audioEncoding\": \"MP3\"\n",
    "  },\n",
    "  \"voice\": {\n",
    "    \"languageCode\": \"en\"\n",
    "  },\n",
    "  \"input\": {\n",
    "    \"text\": output_string[:5000]\n",
    "  }\n",
    "} # there is a 5000 character limit to the api\n",
    "#gctts_headers = {\"key\" : saved_api_key}\n",
    "resp = requests.post(url = gctts_url, json = gctts_paramets) #, headers = gctts_headers)\n",
    "#print(resp.json()) # don't do this, you'll regret it"
   ]
  },
  {
   "cell_type": "markdown",
   "id": "e18d7112-0862-4692-9205-a1be978698ca",
   "metadata": {},
   "source": [
    "Now, we need to run some terminal prompts from here, which we can do from the `os` module."
   ]
  },
  {
   "cell_type": "code",
   "execution_count": null,
   "id": "8764d2f2-591f-4bb4-a950-f35a20e90ece",
   "metadata": {},
   "outputs": [],
   "source": [
    "import os"
   ]
  },
  {
   "cell_type": "code",
   "execution_count": null,
   "id": "d3a8cfb3-693a-4a06-b213-e3094f43f427",
   "metadata": {},
   "outputs": [],
   "source": [
    "file_ttf = open(\"synthesize-text.txt\",\"w\")\n",
    "file_ttf.write(resp.json()[\"audioContent\"])\n",
    "file_ttf.close()"
   ]
  },
  {
   "cell_type": "code",
   "execution_count": null,
   "id": "c3f1a1c3-213a-4121-9594-a19d78c37e25",
   "metadata": {},
   "outputs": [],
   "source": [
    "os.system(\"base64 synthesize-text.txt --decode > synthesize-text-audio.mp3\")"
   ]
  },
  {
   "cell_type": "markdown",
   "id": "bf893f31-7d24-46f5-960b-196cc778c864",
   "metadata": {},
   "source": [
    "...and voila! This works as we want it to, the output is listenable as per the others!\n",
    "\n",
    "It looks like bedtime for me then, goodnight..."
   ]
  },
  {
   "cell_type": "code",
   "execution_count": null,
   "id": "628a1a6d-67cc-4d0a-b2df-82b4345142fa",
   "metadata": {},
   "outputs": [],
   "source": []
  }
 ],
 "metadata": {
  "kernelspec": {
   "display_name": "Python 3 (ipykernel)",
   "language": "python",
   "name": "python3"
  },
  "language_info": {
   "codemirror_mode": {
    "name": "ipython",
    "version": 3
   },
   "file_extension": ".py",
   "mimetype": "text/x-python",
   "name": "python",
   "nbconvert_exporter": "python",
   "pygments_lexer": "ipython3",
   "version": "3.9.7"
  }
 },
 "nbformat": 4,
 "nbformat_minor": 5
}
